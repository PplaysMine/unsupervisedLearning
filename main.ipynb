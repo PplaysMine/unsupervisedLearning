{
 "cells": [
  {
   "cell_type": "code",
   "execution_count": 24,
   "metadata": {},
   "outputs": [],
   "source": [
    "import numpy as np\n",
    "from scipy.io import loadmat\n",
    "import matplotlib.pyplot as plt\n",
    "import math\n",
    "from sklearn.cluster import KMeans"
   ]
  },
  {
   "cell_type": "code",
   "execution_count": 25,
   "metadata": {},
   "outputs": [],
   "source": [
    "all_data = loadmat('data/sample_1.mat')\n",
    "sample_data = np.array(all_data['data'])\n",
    "spike_times = np.array(all_data['spike_times'])"
   ]
  },
  {
   "cell_type": "code",
   "execution_count": null,
   "metadata": {},
   "outputs": [],
   "source": [
    "seconds = 1.5\n",
    "sr = 24000\n",
    "\n",
    "data = sample_data[0][:round(seconds*sr)]\n",
    "plt.figure(figsize=(25,6))\n",
    "plt.plot(np.linspace(0, seconds, round(seconds*sr)), data)\n",
    "plt.xlim(0, seconds)\n",
    "\n",
    "spike_times_reconstructed = np.where(data >= 25)[0]\n",
    "spike_times_start_only = []\n",
    "spike_times_start_only.append(spike_times_reconstructed[0])\n",
    "spike_times_start_only.extend(spike_times_reconstructed[np.where(np.diff(spike_times_reconstructed) > 10)[0]+1])\n",
    "\n",
    "for i, spike in enumerate(spike_times_start_only):\n",
    "    # plt.axvline(spike/sr - .0008, c='red', alpha=0.5)\n",
    "    plt.axvspan(spike/sr - .0008, spike/sr + .001, facecolor='r', alpha=0.2)\n",
    "    plt.text(spike/sr - 0.006, 110 if i%2 == 0 else 100, i+1, c='r')\n",
    "    \n",
    "for i, spike in enumerate(spike_times[0][0][0][:round(seconds*sr)]/sr):\n",
    "    if round(spike*24000) > round(seconds*24000): break\n",
    "    plt.axvline(spike, c='k', alpha=1)\n",
    "    plt.text(spike - 0.006, 85 if i%2 == 0 else 75, i+1, c='b')\n",
    "    \n",
    "plt.show()"
   ]
  },
  {
   "cell_type": "code",
   "execution_count": null,
   "metadata": {},
   "outputs": [],
   "source": [
    "number_of_spikes = len(spike_times_start_only)\n",
    "\n",
    "ymax = 0\n",
    "ymin = 0\n",
    "spikes = []\n",
    "for spike in spike_times_start_only:\n",
    "    start = round(spike - .0008 * sr)\n",
    "    end = round(spike + .001 * sr)\n",
    "    if np.max(data[start:end]) > ymax: ymax = np.max(data[start:end])\n",
    "    if np.min(data[start:end]) < ymin: ymin = np.min(data[start:end])\n",
    "    spikes.append(data[start:end])\n",
    "\n",
    "inertias = []\n",
    "\n",
    "for i in range(1, 11):\n",
    "    kmeans = KMeans(n_clusters=i, n_init='auto')\n",
    "    kmeans.fit(spikes)\n",
    "    inertias.append(kmeans.inertia_)\n",
    "\n",
    "plt.plot(range(1, 11), inertias, marker='.')\n",
    "plt.show()\n"
   ]
  },
  {
   "cell_type": "code",
   "execution_count": null,
   "metadata": {},
   "outputs": [],
   "source": [
    "plt.figure(figsize=(30,10))\n",
    "\n",
    "kmeans_final = KMeans(n_init='auto', n_clusters=3)\n",
    "classes = kmeans_final.fit_predict(spikes)\n",
    "colors = ['r', 'g', 'b']\n",
    "\n",
    "for i, spike in enumerate(spike_times_start_only):\n",
    "    start = round(spike - .0008 * sr)\n",
    "    end = round(spike + .001 * sr)\n",
    "    plt.subplot(5, math.ceil(number_of_spikes/5), i+1)\n",
    "    plt.grid()\n",
    "    plt.ylim(ymin, ymax)\n",
    "    plt.plot(data[start:end], c=colors[classes[i]])\n",
    "plt.show()"
   ]
  }
 ],
 "metadata": {
  "kernelspec": {
   "display_name": "base",
   "language": "python",
   "name": "python3"
  },
  "language_info": {
   "codemirror_mode": {
    "name": "ipython",
    "version": 3
   },
   "file_extension": ".py",
   "mimetype": "text/x-python",
   "name": "python",
   "nbconvert_exporter": "python",
   "pygments_lexer": "ipython3",
   "version": "3.11.4"
  },
  "metadata": {
   "interpreter": {
    "hash": "20e40d8fc09a6690434ad602c7eb2d8de15d36ec466bfbfb0de97c7c540d7363"
   }
  },
  "orig_nbformat": 2
 },
 "nbformat": 4,
 "nbformat_minor": 2
}

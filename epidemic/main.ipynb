{
 "cells": [
  {
   "cell_type": "code",
   "execution_count": 1,
   "metadata": {},
   "outputs": [],
   "source": [
    "import json\n",
    "import numpy as np"
   ]
  },
  {
   "cell_type": "code",
   "execution_count": 2,
   "metadata": {},
   "outputs": [],
   "source": [
    "friend_data = np.genfromtxt('grupee_data/friends.csv', delimiter=',', dtype=int)\n",
    "friendships = [[] for _ in range(np.max(friend_data[:,0])+1)]\n",
    "\n",
    "for id in set(friend_data[:,0]):\n",
    "    friendships[id] = [id, friend_data[friend_data[:, 0] == id, 1]]\n",
    "\n",
    "with open('grupee_data/preferences.json') as file:\n",
    "    preferences = json.load(file)\n",
    "\n",
    "with open('grupee_data/n_concerts.txt') as file:\n",
    "    n_concerts = file.read().split('\\n')[1:-1]\n",
    "    concerts = np.array([(x.split(':')[0], x.split(':')[1]) for x in n_concerts])\n",
    "    file.close()"
   ]
  },
  {
   "cell_type": "code",
   "execution_count": 3,
   "metadata": {},
   "outputs": [],
   "source": [
    "friendship_matrix = np.empty((len(friendships), len(friendships)), dtype=int)\n",
    "\n",
    "for i, id in enumerate(friendships):\n",
    "    row = np.zeros(len(friendships))\n",
    "    if id:\n",
    "        row[id[1]] = 1\n",
    "        friendship_matrix[i] = row\n",
    "    else:\n",
    "        friendship_matrix[i] = row\n",
    "        \n",
    "friendship_matrix = friendship_matrix + friendship_matrix.T - np.diag(friendship_matrix.diagonal())"
   ]
  }
 ],
 "metadata": {
  "kernelspec": {
   "display_name": "base",
   "language": "python",
   "name": "python3"
  },
  "language_info": {
   "codemirror_mode": {
    "name": "ipython",
    "version": 3
   },
   "file_extension": ".py",
   "mimetype": "text/x-python",
   "name": "python",
   "nbconvert_exporter": "python",
   "pygments_lexer": "ipython3",
   "version": "3.11.4"
  },
  "metadata": {
   "interpreter": {
    "hash": "20e40d8fc09a6690434ad602c7eb2d8de15d36ec466bfbfb0de97c7c540d7363"
   }
  },
  "orig_nbformat": 2
 },
 "nbformat": 4,
 "nbformat_minor": 2
}

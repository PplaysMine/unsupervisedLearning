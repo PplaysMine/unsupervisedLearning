{
 "cells": [
  {
   "cell_type": "code",
   "execution_count": 13,
   "metadata": {},
   "outputs": [],
   "source": [
    "import pandas as pd\n",
    "import json\n",
    "import numpy as np"
   ]
  },
  {
   "cell_type": "code",
   "execution_count": 28,
   "metadata": {},
   "outputs": [
    {
     "name": "stdout",
     "output_type": "stream",
     "text": [
      "(55483, 1)\n",
      "000000000000000000000000000000000001000000000101000000000000010001100100000000000000\n",
      "(84, 2)\n"
     ]
    }
   ],
   "source": [
    "friend_data = pd.read_csv('grupee_data/friends.csv')\n",
    "print(friend_data.shape)\n",
    "\n",
    "with open('grupee_data/preferences.json') as file:\n",
    "    preferences = json.load(file)\n",
    "print(preferences['0'])\n",
    "\n",
    "with open('grupee_data/n_concerts.txt') as file:\n",
    "    n_concerts = file.read().split('\\n')[1:-1]\n",
    "    \n",
    "    concerts = np.array([(x.split(':')[0], x.split(':')[1]) for x in n_concerts])\n",
    "\n",
    "    file.close()\n"
   ]
  }
 ],
 "metadata": {
  "kernelspec": {
   "display_name": "Python 3.11.5 64-bit",
   "name": "python3115jvsc74a57bd020e40d8fc09a6690434ad602c7eb2d8de15d36ec466bfbfb0de97c7c540d7363"
  },
  "language_info": {
   "codemirror_mode": {
    "name": "ipython",
    "version": 3
   },
   "file_extension": ".py",
   "mimetype": "text/x-python",
   "name": "python",
   "nbconvert_exporter": "python",
   "pygments_lexer": "ipython3",
   "version": "3.11.5"
  },
  "metadata": {
   "interpreter": {
    "hash": "20e40d8fc09a6690434ad602c7eb2d8de15d36ec466bfbfb0de97c7c540d7363"
   }
  },
  "orig_nbformat": 2
 },
 "nbformat": 4,
 "nbformat_minor": 2
}
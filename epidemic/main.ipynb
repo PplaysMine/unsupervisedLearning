{
 "cells": [
  {
   "cell_type": "code",
   "execution_count": 1,
   "metadata": {},
   "outputs": [],
   "source": [
    "import json\n",
    "import numpy as np"
   ]
  },
  {
   "cell_type": "code",
   "execution_count": 2,
   "metadata": {},
   "outputs": [],
   "source": [
    "friend_data = np.genfromtxt('grupee_data/friends.csv', delimiter=',', dtype=int)\n",
    "friendships = [[] for _ in range(np.max(friend_data[:,0])+1)]\n",
    "\n",
    "for id in set(friend_data[:,0]):\n",
    "    friendships[id] = [id, friend_data[friend_data[:, 0] == id, 1]]\n",
    "\n",
    "with open('grupee_data/preferences.json') as file:\n",
    "    preferences = json.load(file)\n",
    "\n",
    "with open('grupee_data/n_concerts.txt') as file:\n",
    "    n_concerts = file.read().split('\\n')[1:-1]\n",
    "    concerts = np.array([(x.split(':')[0], x.split(':')[1]) for x in n_concerts])\n",
    "    file.close()"
   ]
  },
  {
   "cell_type": "code",
   "execution_count": 3,
   "metadata": {},
   "outputs": [],
   "source": [
    "friendship_matrix = np.empty((len(friendships), len(friendships)), dtype=int)\n",
    "\n",
    "for i, id in enumerate(friendships):\n",
    "    row = np.zeros(len(friendships))\n",
    "    if id:\n",
    "        row[id[1]] = 1\n",
    "        friendship_matrix[i] = row\n",
    "    else:\n",
    "        friendship_matrix[i] = row\n",
    "        \n",
    "friendship_matrix = friendship_matrix + friendship_matrix.T - np.diag(friendship_matrix.diagonal())"
   ]
  },
  {
   "cell_type": "markdown",
   "metadata": {},
   "source": [
    "<h3>Define likelihoods</h3>"
   ]
  },
  {
   "cell_type": "code",
   "execution_count": 4,
   "metadata": {},
   "outputs": [],
   "source": [
    "visit_concerts = {\n",
    "    'none': .002,\n",
    "    'one': 0.018,\n",
    "    'both': 0.393,\n",
    "}"
   ]
  },
  {
   "cell_type": "code",
   "execution_count": 5,
   "metadata": {},
   "outputs": [],
   "source": [
    "equalPrefs = []\n",
    "\n",
    "for ind in range(len(preferences['0'])):\n",
    "    genrePref = []\n",
    "    for (id, row) in zip(preferences.keys(), preferences.values()):\n",
    "        if row[ind] == '1': genrePref.append(int(id))\n",
    "    equalPrefs.append(genrePref)"
   ]
  },
  {
   "cell_type": "markdown",
   "metadata": {},
   "source": [
    "***\n",
    "<h2>Start with Processing</h2>\n",
    "\n",
    "<h3>Laplacian Matrix</h3>"
   ]
  },
  {
   "cell_type": "code",
   "execution_count": 6,
   "metadata": {},
   "outputs": [
    {
     "name": "stdout",
     "output_type": "stream",
     "text": [
      "12% of 8311: 997.3199999999999\n"
     ]
    }
   ],
   "source": [
    "degreeMat = np.diag(np.sum(friendship_matrix, axis=1))\n",
    "laplacian = degreeMat - friendship_matrix\n",
    "\n",
    "degrees = np.empty((len(friendships), 2))\n",
    "\n",
    "for id in range(len(friendships)):\n",
    "    degrees[id] = (id, laplacian[id][id])\n",
    "\n",
    "print(f'12% of {len(friendships)}: {len(friendships) * .12}')\n",
    "sortedDegrees = sorted(degrees, key=lambda tup: tup[1])\n",
    "mostInfluential = np.array(sortedDegrees[len(friendships)-round(len(friendships) * .12):], dtype=int)\n",
    "#np.savetxt('a_team_5.txt', np.array(list(reversed(mostInfluential[:,0]))), delimiter='\\n', fmt='%i')"
   ]
  },
  {
   "cell_type": "markdown",
   "metadata": {},
   "source": [
    "<h3>Some other model...<h3>"
   ]
  },
  {
   "cell_type": "code",
   "execution_count": null,
   "metadata": {},
   "outputs": [],
   "source": [
    "!pip install networkx"
   ]
  },
  {
   "cell_type": "code",
   "execution_count": 7,
   "metadata": {},
   "outputs": [],
   "source": [
    "import networkx as nx\n",
    "\n",
    "graph = nx.Graph()\n",
    "\n",
    "graph.add_nodes_from(range(len(friendship_matrix)))\n",
    "\n",
    "for id, row in enumerate(friendship_matrix):\n",
    "    edges = [(id, x) for x in np.where(row == 1)[0]]\n",
    "    myPref = [i for i, x in enumerate(preferences[f'{id}']) if x == '1']\n",
    "    weights = np.zeros((len(edges), 84))\n",
    "    for friend in edges:\n",
    "        weight = np.zeros(84)\n",
    "        weight.fill(visit_concerts['none'])\n",
    "        friendPref = [i for i, x in enumerate(preferences[f'{friend[1]}']) if x == '1']\n",
    "        \n",
    "        common_interest = set(myPref) & set(friendPref)\n",
    "        my_exclusive = set(myPref) - set(friendPref)\n",
    "        friend_exclusive = set(friendPref) - set(myPref)\n",
    "        \n",
    "        weight[list(common_interest)] = visit_concerts['both']\n",
    "        weight[list(my_exclusive)] = visit_concerts['one']\n",
    "        weight[list(friend_exclusive)] = visit_concerts['one']\n",
    "    \n",
    "    graph.add_edges_from(edges, weight=weight)"
   ]
  },
  {
   "cell_type": "code",
   "execution_count": 8,
   "metadata": {},
   "outputs": [
    {
     "name": "stdout",
     "output_type": "stream",
     "text": [
      "[(1, 0), (1, 11), (1, 14), (1, 28), (1, 29), (1, 30), (1, 31), (1, 32), (1, 33), (1, 34), (1, 35), (1, 36), (1, 37), (1, 38), (1, 39), (1, 40)]\n"
     ]
    }
   ],
   "source": [
    "print(graph.edges(1))"
   ]
  },
  {
   "cell_type": "code",
   "execution_count": 9,
   "metadata": {},
   "outputs": [],
   "source": [
    "import random\n",
    "random.seed(42)\n",
    "genres = range(84)\n",
    "\n",
    "visitation_rates = np.zeros(graph.number_of_nodes())\n",
    "\n",
    "for genre in genres:\n",
    "    for i in range(int(concerts[:,1][genre])):\n",
    "        visited = np.array([False for _ in range(graph.number_of_nodes())])\n",
    "        for node in graph.nodes():\n",
    "            edges = graph.edges(node)\n",
    "\n",
    "            for edge in edges:\n",
    "                if visited[edge[0]] or visited[edge[1]]: continue\n",
    "                visit = random.random() < graph[edge[0]][edge[1]]['weight'][genre]\n",
    "                if visit:\n",
    "                    visitation_rates[[edge[0], edge[1]]] += 1\n",
    "                    visited[[edge[0], edge[1]]] = True\n",
    "                    break"
   ]
  },
  {
   "cell_type": "code",
   "execution_count": 10,
   "metadata": {},
   "outputs": [
    {
     "name": "stdout",
     "output_type": "stream",
     "text": [
      "No. of concerts: 925\n",
      "Max visits: 627.0\n",
      "Who visits max: [108]\n",
      "How many visit any concert: 8309\n",
      "Top twelve percent: [0, 1, 2, 4, 5, 6, 7, 9, 11, 13, 14, 17, 18, 20, 23, 24, 28, 30, 31, 34, 35, 38, 39, 40, 41, 43, 45, 46, 47, 48, 49, 50, 51, 55, 56, 57, 59, 60, 61, 62, 64, 68, 69, 72, 73, 74, 77, 79, 80, 81, 82, 83, 86, 87, 88, 90, 93, 94, 96, 101, 102, 103, 104, 108, 109, 110, 111, 112, 114, 115, 116, 118, 119, 121, 122, 123, 124, 125, 126, 127, 128, 129, 130, 131, 132, 133, 134, 135, 136, 138, 139, 141, 144, 145, 148, 149, 150, 156, 157, 158, 159, 160, 164, 166, 168, 171, 173, 174, 177, 179, 182, 184, 185, 186, 191, 192, 193, 196, 197, 200, 209, 210, 212, 214, 221, 223, 224, 225, 228, 232, 235, 239, 240, 243, 244, 245, 246, 247, 248, 249, 250, 251, 252, 255, 256, 257, 260, 264, 265, 268, 269, 271, 272, 274, 279, 280, 281, 282, 284, 285, 286, 287, 288, 289, 290, 291, 292, 293, 294, 296, 298, 299, 300, 303, 305, 306, 308, 311, 312, 314, 316, 317, 318, 320, 322, 323, 327, 328, 331, 333, 334, 336, 339, 340, 341, 342, 344, 345, 346, 349, 350, 352, 353, 357, 358, 360, 361, 363, 365, 366, 368, 369, 372, 373, 375, 376, 377, 380, 381, 382, 383, 384, 387, 388, 390, 391, 392, 394, 395, 396, 397, 401, 402, 403, 404, 405, 408, 409, 410, 411, 413, 414, 416, 417, 418, 419, 422, 425, 426, 427, 429, 430, 431, 434, 435, 440, 441, 443, 444, 445, 446, 447, 451, 452, 453, 455, 456, 457, 458, 459, 460, 461, 462, 465, 466, 468, 469, 470, 471, 475, 478, 480, 482, 491, 492, 493, 494, 505, 506, 508, 512, 513, 516, 517, 518, 520, 521, 524, 526, 529, 532, 533, 534, 535, 536, 537, 538, 539, 541, 542, 544, 546, 547, 548, 549, 551, 552, 553, 554, 555, 556, 559, 564, 565, 571, 572, 574, 576, 579, 582, 583, 585, 586, 587, 588, 590, 592, 595, 598, 599, 600, 601, 602, 603, 604, 606, 607, 609, 610, 615, 619, 620, 621, 627, 638, 642, 658, 667, 670, 676, 680, 682, 689, 691, 694, 697, 700, 701, 703, 714, 715, 716, 719, 722, 725, 729, 732, 736, 746, 749, 758, 762, 764, 766, 768, 775, 780, 782, 783, 787, 794, 801, 811, 814, 816, 819, 830, 832, 835, 838, 844, 846, 847, 848, 853, 854, 855, 862, 882, 890, 892, 894, 895, 900, 904, 905, 909, 910, 925, 932, 934, 937, 940, 941, 942, 949, 950, 951, 957, 962, 966, 969, 976, 980, 983, 984, 985, 986, 987, 996, 999, 1000, 1006, 1012, 1020, 1038, 1059, 1062, 1064, 1069, 1072, 1095, 1099, 1113, 1117, 1122, 1123, 1132, 1137, 1145, 1156, 1157, 1197, 1209, 1210, 1212, 1216, 1217, 1218, 1219, 1222, 1225, 1229, 1231, 1232, 1252, 1256, 1286, 1296, 1301, 1302, 1303, 1304, 1305, 1306, 1307, 1308, 1309, 1310, 1311, 1313, 1314, 1315, 1316, 1334, 1337, 1345, 1347, 1362, 1366, 1371, 1373, 1380, 1390, 1394, 1396, 1399, 1402, 1403, 1408, 1414, 1415, 1437, 1470, 1474, 1483, 1484, 1504, 1512, 1518, 1526, 1528, 1530, 1531, 1533, 1538, 1540, 1576, 1592, 1602, 1606, 1612, 1633, 1637, 1642, 1658, 1675, 1676, 1684, 1687, 1688, 1695, 1697, 1708, 1709, 1715, 1728, 1739, 1757, 1773, 1795, 1805, 1806, 1807, 1814, 1815, 1817, 1820, 1827, 1830, 1831, 1837, 1854, 1860, 1863, 1870, 1872, 1875, 1877, 1879, 1883, 1886, 1889, 1895, 1904, 1909, 1923, 1931, 1936, 1939, 1946, 1947, 1949, 1951, 1952, 1953, 1954, 1974, 1980, 1986, 1999, 2003, 2004, 2006, 2010, 2020, 2022, 2034, 2037, 2040, 2051, 2083, 2097, 2099, 2116, 2117, 2120, 2124, 2125, 2134, 2136, 2155, 2159, 2163, 2173, 2194, 2208, 2230, 2232, 2235, 2237, 2241, 2242, 2244, 2245, 2252, 2257, 2263, 2264, 2293, 2339, 2345, 2350, 2357, 2359, 2370, 2396, 2408, 2416, 2417, 2424, 2425, 2426, 2429, 2432, 2433, 2435, 2437, 2441, 2446, 2451, 2452, 2471, 2486, 2494, 2495, 2503, 2508, 2518, 2528, 2531, 2532, 2534, 2556, 2575, 2580, 2586, 2592, 2595, 2604, 2630, 2651, 2654, 2660, 2673, 2674, 2678, 2683, 2719, 2764, 2769, 2770, 2788, 2826, 2833, 2862, 2868, 2871, 2894, 2895, 2898, 2904, 2926, 2930, 2931, 2934, 2937, 2960, 2964, 3004, 3005, 3007, 3039, 3041, 3048, 3075, 3081, 3084, 3088, 3105, 3134, 3144, 3170, 3196, 3203, 3210, 3215, 3216, 3231, 3284, 3292, 3322, 3345, 3368, 3374, 3376, 3405, 3408, 3417, 3427, 3433, 3454, 3491, 3495, 3498, 3505, 3511, 3513, 3543, 3548, 3550, 3561, 3572, 3578, 3584, 3596, 3597, 3600, 3602, 3652, 3660, 3664, 3665, 3700, 3728, 3736, 3738, 3745, 3746, 3749, 3761, 3764, 3765, 3769, 3774, 3785, 3786, 3788, 3812, 3820, 3830, 3833, 3834, 3849, 3857, 3867, 3880, 3897, 3924, 3936, 3944, 3997, 3999, 4001, 4002, 4006, 4008, 4010, 4011, 4013, 4014, 4015, 4017, 4018, 4022, 4024, 4026, 4027, 4028, 4035, 4037, 4041, 4052, 4060, 4073, 4093, 4104, 4109, 4111, 4113, 4119, 4135, 4138, 4143, 4150, 4154, 4156, 4169, 4202, 4207, 4220, 4256, 4321, 4350, 4352, 4459, 4497, 4530, 4565, 4591, 4595, 4613, 4654, 4655, 4697, 4726, 4743, 4752, 4761, 4786, 4794, 4803, 4806, 4812, 4869, 4882, 4919, 4928, 4935, 4940, 4943, 4959, 4968, 4977, 4994, 5004, 5015, 5033, 5047, 5058, 5084, 5139, 5150, 5163, 5169, 5170, 5173, 5180, 5182, 5192, 5220, 5235, 5250, 5251, 5254, 5255, 5269, 5272, 5277, 5300, 5318, 5353, 5402, 5405, 5406, 5416, 5438, 5443, 5448, 5457, 5476, 5486, 5529, 5554, 5560, 5566, 5569, 5604, 5627, 5649, 5658, 5700, 5739, 5742, 5775, 5797, 5798, 5814, 5901, 5908, 6005, 6019, 6078, 6080, 6098, 6161, 6167, 6210, 6225, 6371, 6489, 6499, 6568, 6600, 6631, 6652, 6678, 6681, 6713, 6724, 6732, 6772, 6789, 6790, 6910, 6934, 6935, 6978, 6982, 7060, 7184, 7199, 7230, 7233, 7258, 7272, 7273, 7275, 7278, 7280, 7287, 7296, 7297, 7359, 7384, 7392, 7397, 7404, 7421, 7424, 7430, 7436, 7440, 7442, 7445, 7451, 7454, 7470, 7502, 7508, 7718, 7743, 7765, 7773, 7783, 7797, 7804, 7806, 7853, 7871, 7873, 7875, 7876, 7963, 7997, 8016, 8049, 8077, 8095, 8113, 8117, 8133, 8173, 8201, 8211, 8217, 8255]\n"
     ]
    }
   ],
   "source": [
    "test = [int(x) for x in concerts[:,1]]\n",
    "print(\"No. of concerts:\", sum(test))\n",
    "print(\"Max visits:\", max(visitation_rates))\n",
    "print(\"Who visits max:\", np.where(visitation_rates == max(visitation_rates))[0])\n",
    "print(\"How many visit any concert:\", len(np.where(visitation_rates > 0)[0]))\n",
    "\n",
    "topTwelve = np.argsort(visitation_rates)[-997:]\n",
    "print(\"Top twelve percent:\", sorted(topTwelve))\n",
    "# np.savetxt('b_team_5.txt', topTwelve, delimiter='\\n', fmt='%i')"
   ]
  }
 ],
 "metadata": {
  "kernelspec": {
   "display_name": "base",
   "language": "python",
   "name": "python3"
  },
  "language_info": {
   "codemirror_mode": {
    "name": "ipython",
    "version": 3
   },
   "file_extension": ".py",
   "mimetype": "text/x-python",
   "name": "python",
   "nbconvert_exporter": "python",
   "pygments_lexer": "ipython3",
   "version": "3.11.4"
  },
  "metadata": {
   "interpreter": {
    "hash": "20e40d8fc09a6690434ad602c7eb2d8de15d36ec466bfbfb0de97c7c540d7363"
   }
  },
  "orig_nbformat": 2
 },
 "nbformat": 4,
 "nbformat_minor": 2
}

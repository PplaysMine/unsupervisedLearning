{
 "cells": [
  {
   "cell_type": "code",
   "execution_count": 1,
   "metadata": {},
   "outputs": [],
   "source": [
    "import json\n",
    "import numpy as np"
   ]
  },
  {
   "cell_type": "code",
   "execution_count": 2,
   "metadata": {},
   "outputs": [],
   "source": [
    "friend_data = np.genfromtxt('grupee_data/friends.csv', delimiter=',', dtype=int)\n",
    "friendships = [[] for _ in range(np.max(friend_data[:,0])+1)]\n",
    "\n",
    "for id in set(friend_data[:,0]):\n",
    "    friendships[id] = [id, friend_data[friend_data[:, 0] == id, 1]]\n",
    "\n",
    "with open('grupee_data/preferences.json') as file:\n",
    "    preferences = json.load(file)\n",
    "\n",
    "with open('grupee_data/n_concerts.txt') as file:\n",
    "    n_concerts = file.read().split('\\n')[1:-1]\n",
    "    concerts = np.array([(x.split(':')[0], x.split(':')[1]) for x in n_concerts])\n",
    "    file.close()"
   ]
  },
  {
   "cell_type": "code",
   "execution_count": 3,
   "metadata": {},
   "outputs": [],
   "source": [
    "friendship_matrix = np.empty((len(friendships), len(friendships)), dtype=int)\n",
    "\n",
    "for i, id in enumerate(friendships):\n",
    "    row = np.zeros(len(friendships))\n",
    "    if id:\n",
    "        row[id[1]] = 1\n",
    "        friendship_matrix[i] = row\n",
    "    else:\n",
    "        friendship_matrix[i] = row\n",
    "        \n",
    "friendship_matrix = friendship_matrix + friendship_matrix.T - np.diag(friendship_matrix.diagonal())"
   ]
  },
  {
   "cell_type": "markdown",
   "metadata": {},
   "source": [
    "<h3>Define likelihoods</h3>"
   ]
  },
  {
   "cell_type": "code",
   "execution_count": 4,
   "metadata": {},
   "outputs": [],
   "source": [
    "visit_concerts = {\n",
    "    'none': .2,\n",
    "    'one': 1.8,\n",
    "    'both': 39.3,\n",
    "}"
   ]
  },
  {
   "cell_type": "code",
   "execution_count": 5,
   "metadata": {},
   "outputs": [],
   "source": [
    "equalPrefs = []\n",
    "\n",
    "for ind in range(len(preferences['0'])):\n",
    "    genrePref = []\n",
    "    for (id, row) in zip(preferences.keys(), preferences.values()):\n",
    "        if row[ind] == '1': genrePref.append(int(id))\n",
    "    equalPrefs.append(genrePref)"
   ]
  },
  {
   "cell_type": "markdown",
   "metadata": {},
   "source": [
    "***\n",
    "<h2>Start with Processing</h2>\n",
    "\n",
    "<h3>Laplacian Matrix</h3>"
   ]
  },
  {
   "cell_type": "code",
   "execution_count": 66,
   "metadata": {},
   "outputs": [
    {
     "name": "stdout",
     "output_type": "stream",
     "text": [
      "12% of 8311: 997.3199999999999\n"
     ]
    }
   ],
   "source": [
    "degreeMat = np.diag(np.sum(friendship_matrix, axis=1))\n",
    "laplacian = degreeMat - friendship_matrix\n",
    "\n",
    "degrees = np.empty((len(friendships), 2))\n",
    "\n",
    "for id in range(len(friendships)):\n",
    "    degrees[id] = (id, laplacian[id][id])\n",
    "\n",
    "print(f'12% of {len(friendships)}: {len(friendships) * .12}')\n",
    "sortedDegrees = sorted(degrees, key=lambda tup: tup[1])\n",
    "mostInfluential = np.array(sortedDegrees[len(friendships)-round(len(friendships) * .12):], dtype=int)\n",
    "#np.savetxt('a_team_5.txt', np.array(list(reversed(mostInfluential[:,0]))), delimiter='\\n', fmt='%i')"
   ]
  },
  {
   "cell_type": "markdown",
   "metadata": {},
   "source": [
    "<h3>Some other model...<h3>"
   ]
  },
  {
   "cell_type": "code",
   "execution_count": null,
   "metadata": {},
   "outputs": [],
   "source": [
    "!pip install networkx"
   ]
  },
  {
   "cell_type": "code",
   "execution_count": 46,
   "metadata": {},
   "outputs": [],
   "source": [
    "import networkx as nx\n",
    "\n",
    "graph = nx.Graph()\n",
    "\n",
    "graph.add_nodes_from(range(len(friendship_matrix)))\n",
    "\n",
    "for id, row in enumerate(friendship_matrix):\n",
    "    edges = [(id, x) for x in np.where(row == 1)[0]]\n",
    "    myPref = [i for i, x in enumerate(preferences[f'{id}']) if x == '1']\n",
    "    weights = np.zeros((len(edges), 84))\n",
    "    for friend in edges:\n",
    "        weight = np.zeros(84)\n",
    "        weight.fill(visit_concerts['none'])\n",
    "        friendPref = [i for i, x in enumerate(preferences[f'{friend[1]}']) if x == '1']\n",
    "        \n",
    "        common_interest = set(myPref) & set(friendPref)\n",
    "        my_exclusive = set(myPref) - set(friendPref)\n",
    "        friend_exclusive = set(friendPref) - set(myPref)\n",
    "        \n",
    "        weight[list(common_interest)] = visit_concerts['both']\n",
    "        weight[list(my_exclusive)] = visit_concerts['one']\n",
    "        weight[list(friend_exclusive)] = visit_concerts['one']\n",
    "    \n",
    "    graph.add_edges_from(edges, weight=weight)"
   ]
  }
 ],
 "metadata": {
  "kernelspec": {
   "display_name": "base",
   "language": "python",
   "name": "python3"
  },
  "language_info": {
   "codemirror_mode": {
    "name": "ipython",
    "version": 3
   },
   "file_extension": ".py",
   "mimetype": "text/x-python",
   "name": "python",
   "nbconvert_exporter": "python",
   "pygments_lexer": "ipython3",
   "version": "3.11.4"
  },
  "metadata": {
   "interpreter": {
    "hash": "20e40d8fc09a6690434ad602c7eb2d8de15d36ec466bfbfb0de97c7c540d7363"
   }
  },
  "orig_nbformat": 2
 },
 "nbformat": 4,
 "nbformat_minor": 2
}

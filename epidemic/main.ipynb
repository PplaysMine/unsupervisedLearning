{
 "cells": [
  {
   "cell_type": "code",
   "execution_count": 44,
   "metadata": {},
   "outputs": [],
   "source": [
    "import json\n",
    "import numpy as np"
   ]
  },
  {
   "cell_type": "code",
   "execution_count": 131,
   "metadata": {},
   "outputs": [
    {
     "name": "stdout",
     "output_type": "stream",
     "text": [
      "[10, array([321])]\n"
     ]
    }
   ],
   "source": [
    "friend_data = np.genfromtxt('grupee_data/friends.csv', delimiter=',', dtype=int)\n",
    "friendships = [[] for _ in range(np.max(friend_data[:,0])+1)]\n",
    "\n",
    "for id in set(friend_data[:,0]):\n",
    "    friendships[id] = [id, friend_data[friend_data[:, 0] == id, 1]]\n",
    "\n",
    "with open('grupee_data/preferences.json') as file:\n",
    "    preferences = json.load(file)\n",
    "\n",
    "with open('grupee_data/n_concerts.txt') as file:\n",
    "    n_concerts = file.read().split('\\n')[1:-1]\n",
    "    concerts = np.array([(x.split(':')[0], x.split(':')[1]) for x in n_concerts])\n",
    "    file.close()"
   ]
  }
 ],
 "metadata": {
  "kernelspec": {
   "display_name": "Python 3.11.5 64-bit",
   "name": "python3115jvsc74a57bd020e40d8fc09a6690434ad602c7eb2d8de15d36ec466bfbfb0de97c7c540d7363"
  },
  "language_info": {
   "codemirror_mode": {
    "name": "ipython",
    "version": 3
   },
   "file_extension": ".py",
   "mimetype": "text/x-python",
   "name": "python",
   "nbconvert_exporter": "python",
   "pygments_lexer": "ipython3",
   "version": "3.11.5"
  },
  "metadata": {
   "interpreter": {
    "hash": "20e40d8fc09a6690434ad602c7eb2d8de15d36ec466bfbfb0de97c7c540d7363"
   }
  },
  "orig_nbformat": 2
 },
 "nbformat": 4,
 "nbformat_minor": 2
}
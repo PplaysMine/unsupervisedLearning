{
 "cells": [
  {
   "cell_type": "code",
   "execution_count": 3,
   "metadata": {},
   "outputs": [
    {
     "name": "stdout",
     "output_type": "stream",
     "text": [
      "Netzwerk erstellt: 8311 Knoten, 55483 Kanten\n",
      "Erste 5 Freundschaftsverbindungen:\n",
      "     0     1\n",
      "0  360  4719\n",
      "1  360  4720\n",
      "2  360  4721\n",
      "3  360  4722\n",
      "4  360    14\n",
      "Letzte 5 Freundschaftsverbindungen:\n",
      "          0     1\n",
      "55478  3926  6433\n",
      "55479  2970  2922\n",
      "55480  7793   581\n",
      "55481  3329   241\n",
      "55482  5117  4718\n"
     ]
    }
   ],
   "source": [
    "import pandas as pd\n",
    "import networkx as nx\n",
    "\n",
    "# Freundschaftsdaten laden\n",
    "friends_df = pd.read_csv('friends.csv', delimiter=',', header=None, comment='#', on_bad_lines='skip')\n",
    "friends_df = friends_df.dropna()\n",
    "# Netzwerk erstellen\n",
    "G = nx.Graph()\n",
    "G.add_edges_from(friends_df.values)\n",
    "print(f\"Netzwerk erstellt: {G.number_of_nodes()} Knoten, {G.number_of_edges()} Kanten\")\n",
    "\n",
    "# Validierung\n",
    "print(\"Erste 5 Freundschaftsverbindungen:\")\n",
    "print(friends_df.head())\n",
    "print(\"Letzte 5 Freundschaftsverbindungen:\")\n",
    "print(friends_df.tail())\n"
   ]
  },
  {
   "cell_type": "code",
   "execution_count": 4,
   "metadata": {},
   "outputs": [
    {
     "ename": "NameError",
     "evalue": "name 'json' is not defined",
     "output_type": "error",
     "traceback": [
      "\u001b[0;31m---------------------------------------------------------------------------\u001b[0m",
      "\u001b[0;31mNameError\u001b[0m                                 Traceback (most recent call last)",
      "Cell \u001b[0;32mIn[4], line 3\u001b[0m\n\u001b[1;32m      1\u001b[0m \u001b[39m# Präferenzdaten laden\u001b[39;00m\n\u001b[1;32m      2\u001b[0m \u001b[39mwith\u001b[39;00m \u001b[39mopen\u001b[39m(\u001b[39m'\u001b[39m\u001b[39mpreferences.json\u001b[39m\u001b[39m'\u001b[39m, \u001b[39m'\u001b[39m\u001b[39mr\u001b[39m\u001b[39m'\u001b[39m) \u001b[39mas\u001b[39;00m f:\n\u001b[0;32m----> 3\u001b[0m     preferences_dict \u001b[39m=\u001b[39m json\u001b[39m.\u001b[39mload(f)\n\u001b[1;32m      5\u001b[0m \u001b[39m# Präferenzdaten in DataFrame umwandeln\u001b[39;00m\n\u001b[1;32m      6\u001b[0m preferences_df \u001b[39m=\u001b[39m pd\u001b[39m.\u001b[39mDataFrame\u001b[39m.\u001b[39mfrom_dict(preferences_dict, orient\u001b[39m=\u001b[39m\u001b[39m'\u001b[39m\u001b[39mindex\u001b[39m\u001b[39m'\u001b[39m, columns\u001b[39m=\u001b[39m[\u001b[39m'\u001b[39m\u001b[39mpreferences\u001b[39m\u001b[39m'\u001b[39m])\n",
      "\u001b[0;31mNameError\u001b[0m: name 'json' is not defined"
     ]
    }
   ],
   "source": [
    "# Präferenzdaten laden\n",
    "with open('preferences.json', 'r') as f:\n",
    "    preferences_dict = json.load(f)\n",
    "\n",
    "# Präferenzdaten in DataFrame umwandeln\n",
    "preferences_df = pd.DataFrame.from_dict(preferences_dict, orient='index', columns=['preferences'])\n",
    "preferences_df['preferences'] = preferences_df['preferences'].apply(lambda x: [int(bit) for bit in x])\n",
    "\n",
    "# Index in Integer umwandeln\n",
    "preferences_df.index = preferences_df.index.astype(int)\n",
    "\n",
    "# Überprüfen, ob Benutzer 0 jetzt im Index ist\n",
    "print(f\"Präferenzdaten geladen: {len(preferences_df)} Benutzer\")\n",
    "print(\"Erste Zeilen der Präferenz-DataFrame:\")\n",
    "print(preferences_df.head())\n",
    "\n",
    "if 0 in preferences_df.index:\n",
    "    print(\"Beispielpräferenzen für Benutzer 0:\")\n",
    "    print(preferences_df.loc[0, 'preferences'])\n",
    "else:\n",
    "    print(\"Benutzer 0 nicht im Index. Verfügbare IDs:\")\n",
    "    print(preferences_df.index[:5].tolist())\n"
   ]
  },
  {
   "cell_type": "code",
   "execution_count": null,
   "metadata": {},
   "outputs": [
    {
     "name": "stdout",
     "output_type": "stream",
     "text": [
      "Genres geladen: 84 Genres\n",
      "Erste Genres: ['Classical', 'Folk', 'Jazz Hip Hop', 'Electro Pop/Electro Rock', 'Dancefloor']\n",
      "Hochrisiko-Genres (Schwellenwert 24): ['Classical', 'Electro Pop/Electro Rock', 'Dancefloor', 'Indie Rock/Rock pop', 'Singer & Songwriter', 'Indie Rock', 'Indie Pop', 'Spirituality & Religion', 'R&B', 'Pop', 'International Pop', 'Kids & Family', 'Rap/Hip Hop', 'Techno/House', 'Contemporary R&B']\n"
     ]
    }
   ],
   "source": [
    "# Genres laden\n",
    "with open('preferences_description.txt', 'r') as f:\n",
    "    genres = [line.strip() for line in f.readlines() if not line.startswith(\"#\")]\n",
    "print(f\"Genres geladen: {len(genres)} Genres\")\n",
    "print(\"Erste Genres:\", genres[:5])\n",
    "\n",
    "# Konzertdaten laden\n",
    "concerts_df = pd.read_csv('n_concerts.txt', delimiter=\":\", header=None, engine='python', comment='#')\n",
    "concerts_df.columns = ['Genre', 'Anzahl']\n",
    "concerts_df['Anzahl'] = concerts_df['Anzahl'].astype(int)\n",
    "\n",
    "# Hochrisiko-Genres definieren\n",
    "threshold = 24\n",
    "high_risk_genres = concerts_df[concerts_df['Anzahl'] >= threshold]['Genre'].tolist()\n",
    "high_risk_indices = [genres.index(genre) for genre in high_risk_genres]\n",
    "print(f\"Hochrisiko-Genres (Schwellenwert {threshold}): {high_risk_genres}\")\n"
   ]
  },
  {
   "cell_type": "code",
   "execution_count": null,
   "metadata": {},
   "outputs": [
    {
     "name": "stdout",
     "output_type": "stream",
     "text": [
      "Benutzer mit Hochrisiko-Präferenzen: 2410\n",
      "Genre: Classical, Anzahl Benutzer: 16\n",
      "Genre: Electro Pop/Electro Rock, Anzahl Benutzer: 58\n",
      "Genre: Dancefloor, Anzahl Benutzer: 44\n",
      "Genre: Indie Rock/Rock pop, Anzahl Benutzer: 1891\n",
      "Genre: Singer & Songwriter, Anzahl Benutzer: 2\n",
      "Genre: Indie Rock, Anzahl Benutzer: 16\n",
      "Genre: Indie Pop, Anzahl Benutzer: 0\n",
      "Genre: Spirituality & Religion, Anzahl Benutzer: 0\n",
      "Genre: R&B, Anzahl Benutzer: 99\n",
      "Genre: Pop, Anzahl Benutzer: 21\n",
      "Genre: International Pop, Anzahl Benutzer: 56\n",
      "Genre: Kids & Family, Anzahl Benutzer: 10\n",
      "Genre: Rap/Hip Hop, Anzahl Benutzer: 1362\n",
      "Genre: Techno/House, Anzahl Benutzer: 429\n",
      "Genre: Contemporary R&B, Anzahl Benutzer: 622\n"
     ]
    }
   ],
   "source": [
    "# Benutzer mit Hochrisiko-Präferenzen\n",
    "high_risk_users = set(preferences_df.index[preferences_df['preferences'].apply(\n",
    "    lambda x: any(x[i] == 1 for i in high_risk_indices)\n",
    ")])\n",
    "print(f\"Benutzer mit Hochrisiko-Präferenzen: {len(high_risk_users)}\")\n",
    "\n",
    "# Benutzeranzahl pro Hochrisiko-Genre\n",
    "high_risk_users_per_genre = {}\n",
    "for genre, index in zip(high_risk_genres, high_risk_indices):\n",
    "    users = preferences_df.index[preferences_df['preferences'].apply(lambda x: x[index] == 1)].tolist()\n",
    "    high_risk_users_per_genre[genre] = users\n",
    "    print(f\"Genre: {genre}, Anzahl Benutzer: {len(users)}\")\n"
   ]
  },
  {
   "cell_type": "code",
   "execution_count": null,
   "metadata": {},
   "outputs": [
    {
     "name": "stdout",
     "output_type": "stream",
     "text": [
      "Top 12% Benutzer basierend auf Degree Centrality: 997\n"
     ]
    }
   ],
   "source": [
    "# Degree Centrality berechnen\n",
    "degree_centrality = nx.degree_centrality(G)\n",
    "\n",
    "# Top 12% Benutzer\n",
    "num_top_users = int(len(G.nodes) * 0.12)\n",
    "top_central_users = sorted(degree_centrality, key=degree_centrality.get, reverse=True)[:num_top_users]\n",
    "print(f\"Top 12% Benutzer basierend auf Degree Centrality: {len(top_central_users)}\")\n"
   ]
  },
  {
   "cell_type": "code",
   "execution_count": null,
   "metadata": {},
   "outputs": [
    {
     "name": "stdout",
     "output_type": "stream",
     "text": [
      "Priorisierte Benutzer (kombiniert): 997\n",
      "Datei 'prioritized_users.txt' erstellt\n"
     ]
    }
   ],
   "source": [
    "# Kombiniere Benutzer aus Degree Centrality und Hochrisiko-Präferenzen\n",
    "prioritized_users = set(top_central_users) | high_risk_users\n",
    "prioritized_users = list(prioritized_users)[:997]\n",
    "\n",
    "print(f\"Priorisierte Benutzer (kombiniert): {len(prioritized_users)}\")\n",
    "\n",
    "# Ergebnisse speichern\n",
    "with open('prioritized_users.txt', 'w') as f:\n",
    "    for user in prioritized_users:\n",
    "        f.write(f\"{user}\\n\")\n",
    "print(\"Datei 'prioritized_users.txt' erstellt\")\n"
   ]
  },
  {
   "cell_type": "code",
   "execution_count": null,
   "metadata": {},
   "outputs": [
    {
     "name": "stdout",
     "output_type": "stream",
     "text": [
      "Anzahl der Benutzer in b_team_5.txt: 997\n",
      "Erste 10 Benutzer: ['1612', '1197', '1210', '419', '160', '2894', '1315', '3543', '312', '855']\n"
     ]
    }
   ],
   "source": [
    "with open(\"b_team_5.txt\", \"r\") as f:\n",
    "    b_team_users = [line.strip() for line in f.readlines()]\n",
    "print(f\"Anzahl der Benutzer in b_team_5.txt: {len(b_team_users)}\")\n",
    "print(f\"Erste 10 Benutzer: {b_team_users[:10]}\")\n"
   ]
  },
  {
   "cell_type": "code",
   "execution_count": null,
   "metadata": {},
   "outputs": [
    {
     "name": "stdout",
     "output_type": "stream",
     "text": [
      "Neue Anzahl Hochrisiko-Benutzer in b_team_5.txt: 997\n"
     ]
    }
   ],
   "source": [
    "# Benutzer priorisieren, die Hochrisiko-Genres mögen\n",
    "prioritized_users = sorted(\n",
    "    high_risk_users,\n",
    "    key=lambda user: len(list(G.neighbors(int(user)))),  # Grad (Netzwerkverbindungen)\n",
    "    reverse=True\n",
    ")[:997]\n",
    "\n",
    "# Datei aktualisieren\n",
    "with open(\"b_team_5.txt\", \"w\") as f:\n",
    "    for user in prioritized_users:\n",
    "        f.write(f\"{user}\\n\")\n",
    "\n",
    "print(f\"Neue Anzahl Hochrisiko-Benutzer in b_team_5.txt: {len(set(prioritized_users) & set(high_risk_users))}\")\n"
   ]
  },
  {
   "cell_type": "code",
   "execution_count": null,
   "metadata": {},
   "outputs": [
    {
     "name": "stdout",
     "output_type": "stream",
     "text": [
      "Anzahl Hochrisiko-Benutzer: 2410\n"
     ]
    }
   ],
   "source": [
    "# Hochrisiko-Benutzer erneut berechnen\n",
    "high_risk_users = set(preferences_df.index[preferences_df['preferences'].apply(\n",
    "    lambda x: any(x[i] == 1 for i in high_risk_indices)\n",
    ")])\n",
    "print(f\"Anzahl Hochrisiko-Benutzer: {len(high_risk_users)}\")\n"
   ]
  },
  {
   "cell_type": "code",
   "execution_count": null,
   "metadata": {},
   "outputs": [
    {
     "name": "stdout",
     "output_type": "stream",
     "text": [
      "Anzahl Hochrisiko-Benutzer in b_team_5.txt: 997/997\n"
     ]
    }
   ],
   "source": [
    "# Kombinierte Priorisierung\n",
    "combined_scores = {\n",
    "    user: len(list(G.neighbors(int(user)))) + 1000 * (user in high_risk_users)\n",
    "    for user in G.nodes\n",
    "}\n",
    "\n",
    "prioritized_users = sorted(\n",
    "    combined_scores,\n",
    "    key=combined_scores.get,\n",
    "    reverse=True\n",
    ")[:997]\n",
    "\n",
    "with open(\"b_team_5.txt\", \"w\") as f:\n",
    "    for user in prioritized_users:\n",
    "        f.write(f\"{user}\\n\")\n",
    "\n",
    "# Validierung\n",
    "high_risk_in_b_team = len(set(prioritized_users) & set(high_risk_users))\n",
    "print(f\"Anzahl Hochrisiko-Benutzer in b_team_5.txt: {high_risk_in_b_team}/{len(prioritized_users)}\")\n"
   ]
  },
  {
   "cell_type": "code",
   "execution_count": null,
   "metadata": {},
   "outputs": [
    {
     "name": "stdout",
     "output_type": "stream",
     "text": [
      "Durchschnittliche Verbindungen (Netzwerk): 13.351702562868487\n",
      "Durchschnittliche Verbindungen (b_team_5): 22.68505516549649\n"
     ]
    }
   ],
   "source": [
    "# Durchschnittliche Verbindungen berechnen\n",
    "all_users_avg_connections = sum(len(list(G.neighbors(user))) for user in G.nodes) / len(G.nodes)\n",
    "prioritized_avg_connections = sum(len(list(G.neighbors(int(user)))) for user in prioritized_users) / len(prioritized_users)\n",
    "\n",
    "print(f\"Durchschnittliche Verbindungen (Netzwerk): {all_users_avg_connections}\")\n",
    "print(f\"Durchschnittliche Verbindungen (b_team_5): {prioritized_avg_connections}\")\n"
   ]
  },
  {
   "cell_type": "code",
   "execution_count": null,
   "metadata": {},
   "outputs": [
    {
     "name": "stdout",
     "output_type": "stream",
     "text": [
      "Durchschnittliches Risiko (Netzwerk): 1649.9985561304295\n",
      "Durchschnittliches Risiko (b_team_5): 8915.226680040121\n"
     ]
    }
   ],
   "source": [
    "# Risiko berechnen\n",
    "all_users_risk = sum(\n",
    "    (393 if user in high_risk_users else 18) * len(list(G.neighbors(user)))\n",
    "    for user in G.nodes\n",
    ") / len(G.nodes)\n",
    "\n",
    "b_team_risk = sum(\n",
    "    (393 if int(user) in high_risk_users else 18) * len(list(G.neighbors(int(user))))\n",
    "    for user in prioritized_users\n",
    ") / len(prioritized_users)\n",
    "\n",
    "print(f\"Durchschnittliches Risiko (Netzwerk): {all_users_risk}\")\n",
    "print(f\"Durchschnittliches Risiko (b_team_5): {b_team_risk}\")\n"
   ]
  },
  {
   "cell_type": "code",
   "execution_count": null,
   "metadata": {},
   "outputs": [
    {
     "name": "stdout",
     "output_type": "stream",
     "text": [
      "Simulierte Anzahl infizierter Benutzer nach 10 Schritten: 7205\n"
     ]
    }
   ],
   "source": [
    "import random\n",
    "\n",
    "def simulate_spread(G, vaccinated_users, steps=10):\n",
    "    infected = set([random.choice(list(G.nodes))])  # Start mit einem zufälligen Infizierten\n",
    "    for step in range(steps):\n",
    "        new_infected = set()\n",
    "        for node in infected:\n",
    "            for neighbor in G.neighbors(node):\n",
    "                if neighbor not in vaccinated_users and neighbor not in infected:\n",
    "                    if random.random() < 0.5:  # Beispiel: Infektionswahrscheinlichkeit\n",
    "                        new_infected.add(neighbor)\n",
    "        infected.update(new_infected)\n",
    "    return len(infected)\n",
    "\n",
    "simulated_infected = simulate_spread(G, set(prioritized_users))\n",
    "print(f\"Simulierte Anzahl infizierter Benutzer nach 10 Schritten: {simulated_infected}\")\n"
   ]
  },
  {
   "cell_type": "code",
   "execution_count": null,
   "metadata": {},
   "outputs": [
    {
     "data": {
      "image/png": "[encoded data removed]",
      "text/plain": [
       "<Figure size 640x480 with 1 Axes>"
      ]
     },
     "metadata": {},
     "output_type": "display_data"
    }
   ],
   "source": [
    "import matplotlib.pyplot as plt\n",
    "\n",
    "# Risiko aller Benutzer\n",
    "all_users_risks = [\n",
    "    (393 if user in high_risk_users else 18) * len(list(G.neighbors(user)))\n",
    "    for user in G.nodes\n",
    "]\n",
    "\n",
    "# Risiko priorisierter Benutzer\n",
    "b_team_risks = [\n",
    "    (393 if int(user) in high_risk_users else 18) * len(list(G.neighbors(int(user))))\n",
    "    for user in prioritized_users\n",
    "]\n",
    "\n",
    "plt.hist(all_users_risks, bins=30, alpha=0.5, label=\"Netzwerk-Risiko\")\n",
    "plt.hist(b_team_risks, bins=30, alpha=0.5, label=\"b_team_5 Risiko\")\n",
    "plt.xlabel(\"Risiko\")\n",
    "plt.ylabel(\"Anzahl\")\n",
    "plt.legend()\n",
    "plt.title(\"Risikoverteilung im Netzwerk vs. b_team_5\")\n",
    "plt.show()"
   ]
  },
  {
   "cell_type": "code",
   "execution_count": null,
   "metadata": {},
   "outputs": [
    {
     "name": "stdout",
     "output_type": "stream",
     "text": [
      "Anzahl Benutzer in a_team: 997\n",
      "Anzahl Benutzer in b_team: 997\n",
      "Gemeinsame Benutzer: 521\n",
      "Nur in a_team: 476\n",
      "Nur in b_team: 476\n"
     ]
    }
   ],
   "source": [
    "# Dateien laden\n",
    "a_team_file = \"a_team_5.txt\"\n",
    "b_team_file = \"b_team_5.txt\"\n",
    "\n",
    "# Benutzer-IDs aus beiden Dateien einlesen\n",
    "with open(a_team_file, \"r\") as file:\n",
    "    a_team_users = set(line.strip() for line in file)\n",
    "\n",
    "with open(b_team_file, \"r\") as file:\n",
    "    b_team_users = set(line.strip() for line in file)\n",
    "\n",
    "# Gemeinsamkeiten und Unterschiede berechnen\n",
    "common_users = a_team_users & b_team_users  # Schnittmenge\n",
    "only_in_a = a_team_users - b_team_users  # Nur in a_team\n",
    "only_in_b = b_team_users - a_team_users  # Nur in b_team\n",
    "\n",
    "# Ergebnisse ausgeben\n",
    "print(f\"Anzahl Benutzer in a_team: {len(a_team_users)}\")\n",
    "print(f\"Anzahl Benutzer in b_team: {len(b_team_users)}\")\n",
    "print(f\"Gemeinsame Benutzer: {len(common_users)}\")\n",
    "print(f\"Nur in a_team: {len(only_in_a)}\")\n",
    "print(f\"Nur in b_team: {len(only_in_b)}\")\n",
    "\n"
   ]
  }
 ],
 "metadata": {
  "kernelspec": {
   "display_name": "Python 3",
   "language": "python",
   "name": "python3"
  },
  "language_info": {
   "codemirror_mode": {
    "name": "ipython",
    "version": 3
   },
   "file_extension": ".py",
   "mimetype": "text/x-python",
   "name": "python",
   "nbconvert_exporter": "python",
   "pygments_lexer": "ipython3",
   "version": "3.12.5"
  },
  "orig_nbformat": 4
 },
 "nbformat": 4,
 "nbformat_minor": 2
}

{
 "cells": [
  {
   "cell_type": "code",
   "execution_count": 1,
   "metadata": {},
   "outputs": [],
   "source": [
    "import numpy as np\n",
    "from scipy.io import loadmat\n",
    "import matplotlib.pyplot as plt"
   ]
  },
  {
   "cell_type": "code",
   "execution_count": 2,
   "metadata": {},
   "outputs": [],
   "source": [
    "import numpy as np\n",
    "from sklearn.decomposition import FastICA\n",
    "\n",
    "def performICA(data, heartbeats_only=True):\n",
    "    heartbeats = []\n",
    "    ica = FastICA(n_components=4)\n",
    "    data = data.T\n",
    "    components = ica.fit_transform(data)\n",
    "    for i in range(4):\n",
    "        component = components[:, i]\n",
    "        if np.min(component) < -2: component *= -1\n",
    "        if np.max(component) > 4: heartbeats.append(component)\n",
    "        if not heartbeats_only and np.max(component) <= 5: heartbeats.append(5)\n",
    "    return heartbeats"
   ]
  },
  {
   "cell_type": "code",
   "execution_count": 3,
   "metadata": {},
   "outputs": [],
   "source": [
    "file_range = range(153)\n",
    "all_heartbeats = []\n",
    "for i in file_range:\n",
    "    filename = f'{i}'.zfill(3)\n",
    "    data = loadmat(f'data/{filename}.mat')\n",
    "    data_matrix = np.array(data['val'][0])\n",
    "    heartbeats = performICA(data_matrix)\n",
    "    for h in heartbeats:\n",
    "        all_heartbeats.append(h)"
   ]
  },
  {
   "cell_type": "code",
   "execution_count": null,
   "metadata": {},
   "outputs": [],
   "source": [
    "!pip install heartpy"
   ]
  },
  {
   "cell_type": "code",
   "execution_count": 4,
   "metadata": {},
   "outputs": [],
   "source": [
    "import heartpy as hp\n",
    "from scipy.signal import find_peaks\n",
    "\n",
    "def check_rotation(component, sr):\n",
    "    distance = sr/10\n",
    "    _, properties = find_peaks(component, distance=distance, height=0.1 * np.max(component))\n",
    "    _ , inverted_properties = find_peaks(-component, distance=distance, height=0.1 * np.max(-component))\n",
    "\n",
    "    # calculate average peak height for normal and inverted peaks to determine if signal is upside down or not\n",
    "    avg_peak_height = np.mean(properties['peak_heights']) \n",
    "    avg_inv_peak_height = np.mean(inverted_properties['peak_heights']) \n",
    "\n",
    "    # flip signal if inverted peaks are taller\n",
    "    if avg_inv_peak_height > avg_peak_height:\n",
    "        component = -component\n",
    "\n",
    "    return component\n",
    "\n",
    "def calculate_heartrate(component, sr):\n",
    "    component = check_rotation(component, sr)\n",
    "    working_data, measures, heart_rate = None, None, None\n",
    "\n",
    "    # Analyze the component signal with HeartPy\n",
    "    working_data, measures = hp.process(component, sample_rate=sr)\n",
    "\n",
    "    return component, working_data, measures"
   ]
  },
  {
   "cell_type": "code",
   "execution_count": 5,
   "metadata": {},
   "outputs": [],
   "source": [
    "import warnings\n",
    "warnings.simplefilter('ignore')\n",
    "\n",
    "heartbeatsWithBpm = np.zeros(len(all_heartbeats), dtype=tuple)\n",
    "\n",
    "for i, heartbeat in enumerate(all_heartbeats):\n",
    "    try:\n",
    "        component, working_data, measures = calculate_heartrate(heartbeat, 360)\n",
    "        heartbeatsWithBpm[i] = (heartbeat, measures['bpm'], measures[''])\n",
    "    except:\n",
    "        heartbeatsWithBpm[i] = (0, 0)\n",
    "        continue"
   ]
  },
  {
   "cell_type": "markdown",
   "metadata": {},
   "source": [
    "<h2> TODO </h2>\n",
    "<ul>\n",
    "<li>We have a list of tuples with shape (heartbeat_signal, bpm)</li>\n",
    "    <ul>\n",
    "        <li>Split data into mother / fetus</li>\n",
    "        <li>Find a representative feature space which is indifferent to signal shift</li>\n",
    "        <li>Apply GMM</li>\n",
    "    </ul>\n",
    "</ul>"
   ]
  }
 ],
 "metadata": {
  "kernelspec": {
   "display_name": "base",
   "language": "python",
   "name": "python3"
  },
  "language_info": {
   "codemirror_mode": {
    "name": "ipython",
    "version": 3
   },
   "file_extension": ".py",
   "mimetype": "text/x-python",
   "name": "python",
   "nbconvert_exporter": "python",
   "pygments_lexer": "ipython3",
   "version": "3.11.4"
  },
  "metadata": {
   "interpreter": {
    "hash": "20e40d8fc09a6690434ad602c7eb2d8de15d36ec466bfbfb0de97c7c540d7363"
   }
  },
  "orig_nbformat": 2
 },
 "nbformat": 4,
 "nbformat_minor": 2
}
